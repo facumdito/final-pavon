{
  "nbformat": 4,
  "nbformat_minor": 0,
  "metadata": {
    "colab": {
      "provenance": [],
      "include_colab_link": true
    },
    "kernelspec": {
      "name": "python3",
      "display_name": "Python 3"
    },
    "language_info": {
      "name": "python"
    }
  },
  "cells": [
    {
      "cell_type": "markdown",
      "metadata": {
        "id": "view-in-github",
        "colab_type": "text"
      },
      "source": [
        "<a href=\"https://colab.research.google.com/github/facumdito/final-pavon/blob/main/Copia_de_Final_Pavon.ipynb\" target=\"_parent\"><img src=\"https://colab.research.google.com/assets/colab-badge.svg\" alt=\"Open In Colab\"/></a>"
      ]
    },
    {
      "cell_type": "code",
      "execution_count": 9,
      "metadata": {
        "id": "IVPPtQO_DIeg",
        "colab": {
          "base_uri": "https://localhost:8080/"
        },
        "outputId": "5b3cebe4-2602-461b-d746-0e578b661fd2"
      },
      "outputs": [
        {
          "output_type": "stream",
          "name": "stdout",
          "text": [
            "yeahhhhh\n"
          ]
        }
      ],
      "source": [
        "print(\"yeahhhhh\")"
      ]
    },
    {
      "cell_type": "code",
      "source": [
        "print(\"actualizacion\")"
      ],
      "metadata": {
        "id": "wghy0v6AIo8U",
        "outputId": "9854cd28-752b-4729-b8d8-73e154ef1c0e",
        "colab": {
          "base_uri": "https://localhost:8080/"
        }
      },
      "execution_count": 10,
      "outputs": [
        {
          "output_type": "stream",
          "name": "stdout",
          "text": [
            "actualizacion\n"
          ]
        }
      ]
    }
  ]
}